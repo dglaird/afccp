{
 "cells": [
  {
   "cell_type": "markdown",
   "id": "40711528",
   "metadata": {},
   "source": [
    "# AFCCP Parameters\n",
    "\n",
    "This jupyter notebook is going to serve as a temporary documentation example of how the python module \"afccp\" works. There is another .ipynb file \"afccp_example\" that serves more as an overview of everything. This is going to outline many of the names of parameters I use. Let's get right to it. The code block below is what we need to get the \"CadetCareerProblem\" object working properly. (Just have to change the working directory and import the class, that's all). "
   ]
  },
  {
   "cell_type": "code",
   "execution_count": 1,
   "id": "e90fac0d",
   "metadata": {},
   "outputs": [
    {
     "name": "stdout",
     "output_type": "stream",
     "text": [
      "initial working directory: /Users/griffenlaird/Desktop/Coding Projects/afccp/afccp/executables/examples/\n",
      "updated working directory: /Users/griffenlaird/Desktop/Coding Projects/afccp/\n",
      "Running on Griffen's Macbook\n",
      "Sensitive data folder not found.\n",
      "Pyomo module found.\n",
      "SDV module found.\n",
      "Sklearn Manifold module found.\n"
     ]
    }
   ],
   "source": [
    "import os\n",
    "\n",
    "# Obtain initial working directory\n",
    "dir_path = os.getcwd() + '/'\n",
    "print('initial working directory:', dir_path)\n",
    "\n",
    "# Get main afccp folder path\n",
    "index = dir_path.find('afccp') \n",
    "dir_path = dir_path[:index + 6]\n",
    "\n",
    "# Update working directory\n",
    "os.chdir(dir_path)\n",
    "print('updated working directory:', dir_path)\n",
    "\n",
    "# Import the problem class\n",
    "from afccp.core.problem_class import CadetCareerProblem"
   ]
  },
  {
   "cell_type": "markdown",
   "id": "0b6d46b6",
   "metadata": {},
   "source": [
    "Now let's play around with an example problem instance. I used \"C\" in the other one but I could use any of them, including a real problem instance. This file should not be included in github. Let's use the class of 2023 as an example since I just finished matching them."
   ]
  },
  {
   "cell_type": "code",
   "execution_count": 2,
   "id": "e9629908",
   "metadata": {},
   "outputs": [
    {
     "name": "stdout",
     "output_type": "stream",
     "text": [
      "Importing 2023 problem instance...\n",
      "Imported.\n"
     ]
    }
   ],
   "source": [
    "instance = CadetCareerProblem(\"2023\", printing=True)  # Printing just print out status updates"
   ]
  },
  {
   "cell_type": "markdown",
   "id": "a3385158",
   "metadata": {},
   "source": [
    "Hopefully when you run the above code it works! It should say that the data was imported. With the above line, you now have access to all the data you could possibly need in order to match a set of cadets to their AFSCs. Check out the other notebook \"afccp_example\" for more on some of that stuff. This notebook is meant to go into detail on the parameters and \"value parameters\" I use on the various objectives. You could translate these to your own set of parameters if you want too (that's what I did with Rebecca's model's parameters) or you could just use them directly, or even add to them if you wish."
   ]
  },
  {
   "cell_type": "markdown",
   "id": "bbeae2b3",
   "metadata": {},
   "source": [
    "## \"parameters\" dictionary\n",
    "The CadetCareerProblem attribute \"parameters\" is all the stuff that we can't really change. Stuff about the AFSCs and cadets that is \"given\", if you will. This is a dictionary of all sorts of information that is unique to the problem instance and won't change. Let's explore this dictionary.\n",
    "\n",
    "### Direct parameters from Excel\n",
    "The first parameters in the dictionary that I want to discuss are the ones that are essentially direct imports from excel. These ones are pretty straightforward. From these parameters, I have another function that creates sets of cadets and AFSCs based on these parameters."
   ]
  },
  {
   "cell_type": "code",
   "execution_count": 3,
   "id": "326d7f7c",
   "metadata": {},
   "outputs": [
    {
     "name": "stdout",
     "output_type": "stream",
     "text": [
      "['13H' '13M' '13N' '14F' '14N' '15A' '15W' '17X' '21A' '21M' '21R' '31P'\n",
      " '32EXA' '32EXC' '32EXE' '32EXF' '32EXG' '32EXJ' '35P' '38F' '61C' '61D'\n",
      " '62EXA' '62EXB' '62EXC' '62EXE' '62EXG' '62EXH' '62EXI' '63A' '64P' '65F']\n"
     ]
    }
   ],
   "source": [
    "# vector of AFSCs for this instance \n",
    "print(instance.parameters[\"afsc_vector\"])  # 1-d numpy array of length M"
   ]
  },
  {
   "cell_type": "code",
   "execution_count": 4,
   "id": "d17c81af",
   "metadata": {},
   "outputs": [
    {
     "name": "stdout",
     "output_type": "stream",
     "text": [
      "P: 6\n",
      "M: 32\n",
      "N: 1575\n"
     ]
    }
   ],
   "source": [
    "# Number of preferences the cadets' get (historically 6)\n",
    "print(\"P:\", instance.parameters[\"P\"])\n",
    "\n",
    "# Number of AFSCs\n",
    "print(\"M:\", instance.parameters[\"M\"])\n",
    "\n",
    "# Number of Cadets\n",
    "print(\"N:\", instance.parameters[\"N\"])"
   ]
  },
  {
   "cell_type": "code",
   "execution_count": 10,
   "id": "a3e60161",
   "metadata": {},
   "outputs": [
    {
     "name": "stdout",
     "output_type": "stream",
     "text": [
      "Qual Matrix: [['I' 'P' 'P' ... 'D' 'D' 'D']\n",
      " ['I' 'P' 'P' ... 'I' 'D' 'P']\n",
      " ['I' 'P' 'P' ... 'D' 'D' 'D']\n",
      " ...\n",
      " ['I' 'P' 'M' ... 'M' 'D' 'D']\n",
      " ['I' 'P' 'M' ... 'M' 'D' 'D']\n",
      " ['I' 'P' 'M' ... 'M' 'D' 'D']]\n"
     ]
    }
   ],
   "source": [
    "# Qual Matrix\n",
    "print(\"Qual Matrix:\", instance.parameters[\"qual\"])  # 2-d numpy array of size N x M"
   ]
  },
  {
   "cell_type": "markdown",
   "id": "417ff18a",
   "metadata": {},
   "source": [
    "There are a few functions in the \"preprocessing.py\" script that take an array of CIP codes (unique academic degree codes) and create the cadets' qualifications based on the AFOCD (mandatory, desired, permitted, ineligible: M, D, P, I). I used this for 2023's stuff (and I had to update it -> latest version is April 2022). This is also used for generated class years. Just FYI!\n",
    "\n",
    "From this qual matrix, I break it up even further and create binary matrices representing the different pieces of information in the qual matrix. Four new matrices are shown below"
   ]
  },
  {
   "cell_type": "code",
   "execution_count": 37,
   "id": "9c44b611",
   "metadata": {},
   "outputs": [
    {
     "name": "stdout",
     "output_type": "stream",
     "text": [
      "mandatory: [[0 0 0 ... 0 0 0]\n",
      " [0 0 0 ... 0 0 0]\n",
      " [0 0 0 ... 0 0 0]\n",
      " ...\n",
      " [0 0 1 ... 1 0 0]\n",
      " [0 0 1 ... 1 0 0]\n",
      " [0 0 1 ... 1 0 0]]\n",
      "desired: [[0 0 0 ... 1 1 1]\n",
      " [0 0 0 ... 0 1 0]\n",
      " [0 0 0 ... 1 1 1]\n",
      " ...\n",
      " [0 0 0 ... 0 1 1]\n",
      " [0 0 0 ... 0 1 1]\n",
      " [0 0 0 ... 0 1 1]]\n",
      "permitted: [[0 1 1 ... 0 0 0]\n",
      " [0 1 1 ... 0 0 1]\n",
      " [0 1 1 ... 0 0 0]\n",
      " ...\n",
      " [0 1 0 ... 0 0 0]\n",
      " [0 1 0 ... 0 0 0]\n",
      " [0 1 0 ... 0 0 0]]\n",
      "ineligible: [[1 0 0 ... 0 0 0]\n",
      " [1 0 0 ... 1 0 0]\n",
      " [1 0 0 ... 0 0 0]\n",
      " ...\n",
      " [1 0 0 ... 0 0 0]\n",
      " [1 0 0 ... 0 0 0]\n",
      " [1 0 0 ... 0 0 0]]\n"
     ]
    }
   ],
   "source": [
    "# Cadets with degrees in the mandatory tier for each AFSC!  (\"qual\" == \"M\")\n",
    "print(\"mandatory:\", instance.parameters[\"mandatory\"])  # 2-d numpy array of size N x M\n",
    "\n",
    "# Cadets with degrees in the desired tier for each AFSC!  (\"qual\" == \"D\")\n",
    "print(\"desired:\", instance.parameters[\"desired\"])  # 2-d numpy array of size N x M\n",
    "\n",
    "# Cadets with degrees in the permitted tier for each AFSC!  (\"qual\" == \"P\")\n",
    "print(\"permitted:\", instance.parameters[\"permitted\"])  # 2-d numpy array of size N x M\n",
    "\n",
    "# Cadets with degrees that are ineligible for each AFSC!  (\"qual\" == \"I\")\n",
    "print(\"ineligible:\", instance.parameters[\"ineligible\"])  # 2-d numpy array of size N x M"
   ]
  },
  {
   "cell_type": "code",
   "execution_count": 11,
   "id": "b577f958",
   "metadata": {},
   "outputs": [
    {
     "name": "stdout",
     "output_type": "stream",
     "text": [
      "Utility Matrix: [[0.   0.   0.   ... 0.17 0.75 1.  ]\n",
      " [0.   0.75 0.   ... 0.   0.   0.  ]\n",
      " [0.   0.   0.   ... 0.   0.33 0.  ]\n",
      " ...\n",
      " [0.   0.   0.   ... 0.   0.   0.4 ]\n",
      " [0.   0.   0.   ... 0.25 0.   0.  ]\n",
      " [0.   0.   0.   ... 0.17 0.65 0.  ]]\n"
     ]
    }
   ],
   "source": [
    "# Utility Matrix\n",
    "print(\"Utility Matrix:\", instance.parameters[\"utility\"])  # 2-d numpy array of size N x M"
   ]
  },
  {
   "cell_type": "markdown",
   "id": "f472943c",
   "metadata": {},
   "source": [
    "The cadets' preferences and utility measures are converted to an NxM utility matrix (rows are cadets, columns are AFSCs)"
   ]
  },
  {
   "cell_type": "code",
   "execution_count": 13,
   "id": "ead9405a",
   "metadata": {},
   "outputs": [],
   "source": [
    "import numpy as np  # Needed to calculate some means and whatnot (np.mean below)"
   ]
  },
  {
   "cell_type": "code",
   "execution_count": 15,
   "id": "69860ec2",
   "metadata": {},
   "outputs": [
    {
     "name": "stdout",
     "output_type": "stream",
     "text": [
      "Cadet: [   0    1    2 ... 2566 2567 2568]\n",
      "USAFA: [0 0 0 ... 1 1 1]\n",
      "Male: [1 1 1 ... 0 0 1]\n",
      "Merit (NonRated): [0.26982759 0.93103448 0.42931034 ... 0.97029703 0.86386139 0.5990099 ]\n",
      "Merit (NonRated) Average: 0.4996524356869184\n",
      "Merit (All): [0.19291527 0.89516515 0.31833413 ... 0.9661191  0.85523614 0.5523614 ]\n",
      "Merit (All) Average: 0.4357796160240567\n"
     ]
    }
   ],
   "source": [
    "# Cadet unique ID array (not the same as \"I\")\n",
    "print(\"Cadet:\", instance.parameters[\"ID\"])  # 1-d numpy array of length N\n",
    "\n",
    "# USAFA binary indicator array\n",
    "print(\"USAFA:\", instance.parameters[\"usafa\"])  # 1-d numpy array of length N\n",
    "\n",
    "# Male  (Not all class years have this -> sometimes I didn't have that information)\n",
    "print(\"Male:\", instance.parameters[\"male\"])  # 1-d numpy array of length N\n",
    "\n",
    "# Merit  (or percentile) This is relative to just the Non-Rated cadets and therefore the average is right around 0.5\n",
    "print(\"Merit (NonRated):\", instance.parameters[\"merit\"])  # 1-d numpy array of length N\n",
    "print(\"Merit (NonRated) Average:\", np.mean(instance.parameters[\"merit\"]))\n",
    "\n",
    "# Merit  (or percentile) This is the cadet's overall standing (when compared to Rated and Space Force Cadets)\n",
    "print(\"Merit (All):\", instance.parameters[\"merit_all\"])  # 1-d numpy array of length N\n",
    "print(\"Merit (All) Average:\", np.mean(instance.parameters[\"merit_all\"]))"
   ]
  },
  {
   "cell_type": "markdown",
   "id": "a699d6ea",
   "metadata": {},
   "source": [
    "Just for this year (2023) I wanted to distinguish the \"relative\" merit from the \"absolute\" merit. To appease the AFSCs, we use the re-scaled percentiles based on the cadets' standings within the ones we're matching (just the NonRated cadets). The average is therefore 0.5. Since Rated and Space Force as a whole tend to take higher-performers, the average merit of the non-rated cadets when compared to the entire class is much lower (down to about 0.436). Therefore I use the relative merit in the \"balancing merit\" objective but I use the cadets' \"real\" percentiles in the cadet weight function."
   ]
  },
  {
   "cell_type": "code",
   "execution_count": 18,
   "id": "33e57122",
   "metadata": {},
   "outputs": [
    {
     "name": "stdout",
     "output_type": "stream",
     "text": [
      "CIP: ['520801' '260202' '522101' ... '141001' '141001' '141001']\n",
      "CIP (Second Degree): ['None' 'None' 'None' ... 'None' 'None' 'None']\n"
     ]
    }
   ],
   "source": [
    "# CIP codes  (Not all class years have this -> sometimes I didn't have that information)\n",
    "print(\"CIP:\", instance.parameters[\"cip1\"])  # 1-d numpy array of length N\n",
    "\n",
    "# Second Degree CIP codes (vast majority don't have 2 degrees)\n",
    "print(\"CIP (Second Degree):\", instance.parameters[\"cip2\"])  # 1-d numpy array of length N"
   ]
  },
  {
   "cell_type": "code",
   "execution_count": 19,
   "id": "0afb9eb0",
   "metadata": {},
   "outputs": [
    {
     "name": "stdout",
     "output_type": "stream",
     "text": [
      "Already Assigned AFSCs: [nan nan nan ... nan nan nan]\n"
     ]
    }
   ],
   "source": [
    "# Already Assigned degrees (This is new, I wanted a column of already assigned AFSCs so I could fix x_ij)\n",
    "print(\"Already Assigned AFSCs:\", instance.parameters[\"assigned\"])  # 1-d numpy array of length N"
   ]
  },
  {
   "cell_type": "markdown",
   "id": "b429ca58",
   "metadata": {},
   "source": [
    "This already assigned AFSC column only has a few people in it that have assigned AFSCs already. For whatever reason, I got a list of individuals that are in this year's \"match\" but have already been given an AFSC. I wanted to include them in the model so the model knows and can factor that information into the objectives. They're fixed variables. I also used this to fix certain people into certain AFSCs based on various factors (sometimes the model messed up and didn't put someone somewhere correctly)"
   ]
  },
  {
   "cell_type": "code",
   "execution_count": 35,
   "id": "6d162adb",
   "metadata": {},
   "outputs": [
    {
     "name": "stdout",
     "output_type": "stream",
     "text": [
      "Cadet Indices with assigned AFSCs: [  41  370  569  572  851  927  996 1166 1530]\n",
      "Assigned AFSCs: ['62EXE' '32EXF' '13N' '62EXB' '13H' '61C' '62EXC' '15W' '17X']\n"
     ]
    }
   ],
   "source": [
    "indices = np.where(instance.parameters[\"assigned\"].astype(\"str\") != \"nan\")[0]\n",
    "\n",
    "print(\"Cadet Indices with assigned AFSCs:\", indices)\n",
    "print(\"Assigned AFSCs:\", instance.parameters[\"assigned\"][indices])"
   ]
  },
  {
   "cell_type": "markdown",
   "id": "6d15b832",
   "metadata": {},
   "source": [
    "We talked a lot about the cadets, but I also have some information on the AFSCs"
   ]
  },
  {
   "cell_type": "code",
   "execution_count": 38,
   "id": "dd090cbf",
   "metadata": {
    "scrolled": true
   },
   "outputs": [
    {
     "name": "stdout",
     "output_type": "stream",
     "text": [
      "AFSC Quota (PGL): [  8  19 105   7 195  35  25 181  84  29  61  29   3   7   3   3  42   3\n",
      "  18  84   1  13  15  12  20  63  34  12   2  69  50  34]\n",
      "AFSC Target (Estimated): [ 14  27 166   8 210  70  36 193  91  38  67  32   5  10   3   5  60   3\n",
      "  20  91   1  13  29  17  24  53  48  24   4  85  75  37]\n",
      "AFSC Min: [ 10  19 169   7 195  60  25 181  84  29  61  29   3   7   3   3  42   3\n",
      "  18  84   1  13  15  12  24  53  34  12   2  69  50  34]\n",
      "AFSC Max: [ 14  27 210   8 210  72  50 193  92  38  67  35   6  10   6   5  60   5\n",
      "  22  92   1  14  30  24  40 126  48  24   4  95  75  37]\n"
     ]
    }
   ],
   "source": [
    "# AFSC Quotas \n",
    "print(\"AFSC Quota (PGL):\", instance.parameters[\"pgl\"])  # 1-d numpy array of length M\n",
    "print(\"AFSC Target (Estimated):\", instance.parameters[\"quota\"])  # 1-d numpy array of length M\n",
    "print(\"AFSC Min:\", instance.parameters[\"quota_min\"])  # 1-d numpy array of length M\n",
    "print(\"AFSC Max:\", instance.parameters[\"quota_max\"])  # 1-d numpy array of length M"
   ]
  },
  {
   "cell_type": "markdown",
   "id": "60d8082e",
   "metadata": {},
   "source": [
    "The AFSC ranges for the number of cadets that can be assigned to them are admittedly a little vague. Every year, the \"Performance Guidance Letter\" (PGL) outlines the target number of cadets that are to be \"accessed\" into each AFSC. For this year (CY2023), the sum of the PGL targets was 1266, when the total number of cadets is 1575. That's 309 extra cadets that we need to figure out where to put."
   ]
  },
  {
   "cell_type": "code",
   "execution_count": 43,
   "id": "ce033337",
   "metadata": {},
   "outputs": [
    {
     "name": "stdout",
     "output_type": "stream",
     "text": [
      "Sum of PGL targets: 1266\n",
      "Total Number of cadets: 1575\n",
      "Extra cadets (Surplus): 309\n"
     ]
    }
   ],
   "source": [
    "print(\"Sum of PGL targets:\", np.sum(instance.parameters[\"pgl\"]))\n",
    "print(\"Total Number of cadets:\", instance.parameters[\"N\"])\n",
    "print(\"Extra cadets (Surplus):\", instance.parameters[\"N\"] - np.sum(instance.parameters[\"pgl\"]))"
   ]
  },
  {
   "cell_type": "markdown",
   "id": "3125ddd7",
   "metadata": {},
   "source": [
    "I had a lot of conversations with the assignments' officers upstairs and even some career field managers to determine who could handle more cadets. Every career field is different and that's why I wanted to break this thing down to the career field (AFSC) level. 13N always needs more people which is why their \"min\" is higher than their PGL. Some other career fields had similar situations. Some can't take too many more, it all depends! The min, max vectors are therefore the \"real\" ranges on the numbers of cadets that could/should be accessed into the career fields. Those numbers are a little flexible though! The estimated target is basically how many cadets are probably going to be assigned to each of the AFSCs and I use that number in my objective function as an approximation for the real number of cadets assigned."
   ]
  },
  {
   "cell_type": "code",
   "execution_count": 46,
   "id": "88934e74",
   "metadata": {},
   "outputs": [
    {
     "name": "stdout",
     "output_type": "stream",
     "text": [
      "USAFA Quota (PGL): [ 2  3 26  2 71 14  9 52 15 17 12  9  1  2  1  1 10  1  2 14  0  4  3  4\n",
      "  5 15  5  3  2 15  8  8]\n",
      "ROTC Quota (PGL): [  6  16  79   5 124  21  16 129  69  12  49  20   2   5   2   2  32   2\n",
      "  16  70   1   9  12   8  15  48  29   9   0  54  42  26]\n"
     ]
    }
   ],
   "source": [
    "# USAFA Quota (From the PGL! This is used to create the \"Combined Quota\")\n",
    "print(\"USAFA Quota (PGL):\", instance.parameters[\"usafa_quota\"])  # 1-d numpy array of length M\n",
    "\n",
    "# ROTC Quota (From the PGL! This is used to create the \"Combined Quota\")\n",
    "print(\"ROTC Quota (PGL):\", instance.parameters[\"rotc_quota\"])  # 1-d numpy array of length M"
   ]
  },
  {
   "cell_type": "markdown",
   "id": "a713db2b",
   "metadata": {},
   "source": [
    "The USAFA and ROTC Quotas are provided by A1 that make up the PGL's target for each of the AFSCs. Historically, the original model didn't really use this information, but it actually was necessary this year for some of the smaller AFSCs to make sure they at least got one or two USAFA cadets since that's what they wanted. These were incorporated as other objectives in my VFT model: the USAFA/ROTC quota objectives since they're separate from the proportion balancing objectives."
   ]
  },
  {
   "cell_type": "markdown",
   "id": "1b1fec19",
   "metadata": {},
   "source": [
    "### Parameter \"Set\" Additions\n",
    "\n",
    "I have all the information I need to create some sets of cadets and AFSCs to use in the optimization models. These sets follow my thesis formulation pretty closely."
   ]
  },
  {
   "cell_type": "code",
   "execution_count": 48,
   "id": "22268c25",
   "metadata": {},
   "outputs": [
    {
     "name": "stdout",
     "output_type": "stream",
     "text": [
      "I: [   0    1    2 ... 1572 1573 1574]\n",
      "J: [ 0  1  2  3  4  5  6  7  8  9 10 11 12 13 14 15 16 17 18 19 20 21 22 23\n",
      " 24 25 26 27 28 29 30 31]\n"
     ]
    }
   ],
   "source": [
    "# Set of all cadets (different from ID) these are the cadet indices! (0...N - 1 because python)\n",
    "print(\"I:\", instance.parameters[\"I\"])  # 1-d numpy array of length N\n",
    "\n",
    "# Set of all AFSCs (different from afsc vector) these are the AFSC indices! (0...M - 1 because python)\n",
    "print(\"J:\", instance.parameters[\"J\"])  # 1-d numpy array of length M"
   ]
  },
  {
   "cell_type": "code",
   "execution_count": 54,
   "id": "71ba28dc",
   "metadata": {},
   "outputs": [
    {
     "name": "stdout",
     "output_type": "stream",
     "text": [
      "J^E [0]: [ 1  2  4  7  8  9 10 11 18 19 29 30 31]\n"
     ]
    }
   ],
   "source": [
    "# Indexed set of all AFSCs that cadet 'i' is eligible for (indexed by I)\n",
    "print(\"J^E [0]:\", instance.parameters[\"J^E\"][0])  # list (length N) of numpy arrays (length <= M)\n",
    "# (showing set of AFSCs for cadet at index 0)"
   ]
  },
  {
   "cell_type": "markdown",
   "id": "23df28e9",
   "metadata": {},
   "source": [
    "I have a lot of indexed sets which I represent in python using a list of numpy arrays. If I were to print out all of J^E, it would be a big mess so I'm just printing out the set of AFSCs that the cadet at index 0 is eligible for. For all my other indexed sets, I will do something similar..."
   ]
  },
  {
   "cell_type": "code",
   "execution_count": 55,
   "id": "bb07f148",
   "metadata": {},
   "outputs": [
    {
     "name": "stdout",
     "output_type": "stream",
     "text": [
      "J^P [0]: [ 4 10 29 30 31]\n"
     ]
    }
   ],
   "source": [
    "# Indexed set of all AFSCs that cadet 'i' is eligible for and has placed a preference for (indexed by I)\n",
    "print(\"J^P [0]:\", instance.parameters[\"J^P\"][0])  # list (length N) of numpy arrays (length <= P)\n",
    "# (showing set of AFSCs for cadet at index 0)"
   ]
  },
  {
   "cell_type": "markdown",
   "id": "0fd0e92f",
   "metadata": {},
   "source": [
    "The above two indexed sets are sets of AFSCs for each cadet. The remaining sets are going to be the reverse (sets of cadets for each AFSC)."
   ]
  },
  {
   "cell_type": "code",
   "execution_count": 56,
   "id": "f1c52380",
   "metadata": {},
   "outputs": [
    {
     "name": "stdout",
     "output_type": "stream",
     "text": [
      "I^E [0]: [  29   47   54   58  201  256  317  362  378  394  421  456  495  513\n",
      "  585  646  673  785  789  851  878  886  982 1050 1076 1130 1131 1138]\n"
     ]
    }
   ],
   "source": [
    "# Indexed set of all cadets that are eligible for each AFSC (indexed by J)\n",
    "print(\"I^E [0]:\", instance.parameters[\"I^E\"][0])  # list (length M) of numpy arrays (length <= N)\n",
    "# (showing set of cadets for AFSC at index 0)"
   ]
  },
  {
   "cell_type": "code",
   "execution_count": 57,
   "id": "706dcf5c",
   "metadata": {
    "scrolled": true
   },
   "outputs": [
    {
     "name": "stdout",
     "output_type": "stream",
     "text": [
      "I^P [0]: [  58  256  317  362  378  394  421  456  513  585  646  851  878  886\n",
      "  982 1050 1076 1130 1131]\n"
     ]
    }
   ],
   "source": [
    "# Indexed set of all cadets that are eligible for each AFSC and have placed a preference for the AFSC (indexed by J)\n",
    "print(\"I^P [0]:\", instance.parameters[\"I^P\"][0])  # list (length M) of numpy arrays (length <= N)\n",
    "# (showing set of cadets for AFSC at index 0)"
   ]
  },
  {
   "cell_type": "markdown",
   "id": "415d2f87",
   "metadata": {},
   "source": [
    "These next series of sets pertain to cadets with certain demographics. These demographics directly correspond to objectives in my set of \"value parameters\". I talk about this in the thesis, and it'll probably be more clear when you get to my value parameters further below."
   ]
  },
  {
   "cell_type": "code",
   "execution_count": 58,
   "id": "6d2f7183",
   "metadata": {},
   "outputs": [
    {
     "name": "stdout",
     "output_type": "stream",
     "text": [
      "dict_keys(['USAFA Proportion', 'Mandatory', 'Desired', 'Permitted', 'Male', 'Minority'])\n"
     ]
    }
   ],
   "source": [
    "print(instance.parameters[\"I^D\"].keys())"
   ]
  },
  {
   "cell_type": "markdown",
   "id": "3fa396e0",
   "metadata": {},
   "source": [
    "\"I^D\" contains the cadets that are eligible for each AFSC and have the \"demographic\" associated with a particular objective (see above) for that AFSC. This is in my thesis formulation. The only difference with its implementation in python is that I^D is indexed as \"I^D[objective][AFSC]\" rather than \"I^D[AFSC][objective]\""
   ]
  },
  {
   "cell_type": "code",
   "execution_count": 63,
   "id": "4020bccd",
   "metadata": {},
   "outputs": [
    {
     "name": "stdout",
     "output_type": "stream",
     "text": [
      "I^D [USAFA] [3]: [1175 1185 1186 1187 1188 1189 1190 1191 1192 1193 1194 1195 1196 1197\n",
      " 1198 1199 1200 1201 1202 1203 1204 1205 1206 1382 1388 1421 1422 1423\n",
      " 1424 1425 1426 1427 1428 1429 1430 1431 1432 1433 1434 1435 1436 1437\n",
      " 1438 1439 1440 1441 1442 1443 1444 1445 1446 1447 1448 1449 1450 1451\n",
      " 1452]\n"
     ]
    }
   ],
   "source": [
    "# Indexed set of all USAFA cadets that are eligible for each AFSC (indexed by J)\n",
    "print(\"I^D [USAFA] [3]:\", instance.parameters[\"I^D\"][\"USAFA Proportion\"][3])  \n",
    "# list (length M) of numpy arrays (length <= N)\n",
    "# (showing set of cadets for AFSC at index 3)"
   ]
  },
  {
   "cell_type": "code",
   "execution_count": 64,
   "id": "bf9e0835",
   "metadata": {},
   "outputs": [
    {
     "name": "stdout",
     "output_type": "stream",
     "text": [
      "I^D [Mandatory] [3]: [  37   59   75  155  170  189  201  207  228  233  258  313  363  372\n",
      "  419  429  434  470  482  526  543  561  567  577  607  630  664  679\n",
      "  684  690  700  733  739  748  751  755  775  792  808  828  840  842\n",
      "  850  887  891  918  932  960  992  994 1011 1034 1039 1041 1059 1088\n",
      " 1091 1098 1111 1122 1139 1141 1175 1382 1421 1422 1423 1424 1425 1426\n",
      " 1427 1428 1429 1430 1431 1432 1433 1434 1435 1436 1437 1438 1439 1440\n",
      " 1441 1442 1443 1444 1445 1446 1447 1448 1449 1450 1451 1452]\n"
     ]
    }
   ],
   "source": [
    "# Indexed set of all cadets with Mandatory-tiered degrees for each AFSC (indexed by J)\n",
    "print(\"I^D [Mandatory] [3]:\", instance.parameters[\"I^D\"][\"Mandatory\"][3])  \n",
    "# list (length M) of numpy arrays (length <= N)\n",
    "# (showing set of cadets for AFSC at index 3)"
   ]
  },
  {
   "cell_type": "code",
   "execution_count": 65,
   "id": "26bb0ab5",
   "metadata": {},
   "outputs": [
    {
     "name": "stdout",
     "output_type": "stream",
     "text": [
      "I^D [Desired] [3]: [ 425  563  592  812  823  893  900  943  961 1092 1101 1107]\n"
     ]
    }
   ],
   "source": [
    "# Indexed set of all cadets with Desired-tiered degrees for each AFSC (indexed by J)\n",
    "print(\"I^D [Desired] [3]:\", instance.parameters[\"I^D\"][\"Desired\"][3])  \n",
    "# list (length M) of numpy arrays (length <= N)\n",
    "# (showing set of cadets for AFSC at index 3)"
   ]
  },
  {
   "cell_type": "code",
   "execution_count": 67,
   "id": "71a23f21",
   "metadata": {},
   "outputs": [
    {
     "name": "stdout",
     "output_type": "stream",
     "text": [
      "I^D [Permitted] [3]: [  25   35   49   76   78   79   84   85   94  119  121  124  137  154\n",
      "  159  208  211  214  261  275  292  322  334  339  347  380  397  404\n",
      "  427  435  451  475  518  575  584  589  601  605  636  654  656  669\n",
      "  682  685  698  746  764  779  795  797  804  837  843  970 1006 1018\n",
      " 1031 1035 1046 1081 1118 1146 1159 1185 1186 1187 1188 1189 1190 1191\n",
      " 1192 1193 1194 1195 1196 1197 1198 1199 1200 1201 1202 1203 1204 1205\n",
      " 1206 1388]\n"
     ]
    }
   ],
   "source": [
    "# Indexed set of all cadets with Permitted-tiered degrees for each AFSC (indexed by J)\n",
    "print(\"I^D [Permitted] [3]:\", instance.parameters[\"I^D\"][\"Permitted\"][3])  \n",
    "# list (length M) of numpy arrays (length <= N)\n",
    "# (showing set of cadets for AFSC at index 3)"
   ]
  },
  {
   "cell_type": "code",
   "execution_count": 68,
   "id": "53e553f4",
   "metadata": {},
   "outputs": [
    {
     "name": "stdout",
     "output_type": "stream",
     "text": [
      "I^D [Male] [3]: [  37   49   79   94  121  154  155  207  208  261  334  363  372  380\n",
      "  419  425  427  434  435  475  518  543  563  567  575  592  605  607\n",
      "  664  682  698  733  746  748  755  764  779  795  797  804  823  842\n",
      "  843  887  893  900  961  970  992 1006 1011 1018 1034 1035 1046 1059\n",
      " 1098 1122 1187 1188 1191 1192 1193 1195 1196 1198 1201 1202 1203 1382\n",
      " 1388 1422 1425 1432 1438 1443 1450 1452]\n"
     ]
    }
   ],
   "source": [
    "# Indexed set of all male cadets that are eligible for each AFSC (indexed by J)\n",
    "print(\"I^D [Male] [3]:\", instance.parameters[\"I^D\"][\"Male\"][3])  \n",
    "# list (length M) of numpy arrays (length <= N)\n",
    "# (showing set of cadets for AFSC at index 3)"
   ]
  },
  {
   "cell_type": "markdown",
   "id": "ff7e1b99",
   "metadata": {},
   "source": [
    "The last set I use is just a set of cadets that are already assigned to an AFSC, as well as the AFSC that they are assigned to. This is a dictionary where the keys are the cadet indices and the values are the AFSC indices that they're assigned to."
   ]
  },
  {
   "cell_type": "code",
   "execution_count": 69,
   "id": "a78be47b",
   "metadata": {},
   "outputs": [
    {
     "name": "stdout",
     "output_type": "stream",
     "text": [
      "J^Fixed: {41: 25, 370: 15, 569: 2, 572: 23, 851: 0, 927: 20, 996: 24, 1166: 6, 1530: 7}\n"
     ]
    }
   ],
   "source": [
    "print(\"J^Fixed:\", instance.parameters[\"J^Fixed\"]) "
   ]
  },
  {
   "cell_type": "markdown",
   "id": "f4d7601a",
   "metadata": {},
   "source": [
    "The cadet at index 41 is already assigned to the AFSC at index 25, the cadet at index 370 is already assigned to the AFSC at index 15, the cadet..."
   ]
  },
  {
   "cell_type": "markdown",
   "id": "f979c567",
   "metadata": {},
   "source": [
    "### Summary\n",
    "\n",
    "This is the magic of dictionaries! The dictionary called \"parameters\" contains all of this information! I don't need to keep track of all of the variables that I'm using across many different functions. I just use one variable \"parameters\" that contains it all. Going further, this dictionary is an attribute of the CadetCareerProblem object \"instance\" and so we have access to all of this information anywhere we can access the problem instance. One other cool thing you can do with dictionaries is be able to name the variables whatever you want since they're just python strings. In my thesis, I use superscripts in my sets (\"I^E\" for example) and can actually call it that in python where you couldn't do that as a regular variable name."
   ]
  },
  {
   "cell_type": "code",
   "execution_count": 72,
   "id": "0edb3e42",
   "metadata": {},
   "outputs": [
    {
     "name": "stdout",
     "output_type": "stream",
     "text": [
      "[  29   47   54   58  201  256  317  362  378  394  421  456  495  513\n",
      "  585  646  673  785  789  851  878  886  982 1050 1076 1130 1131 1138]\n"
     ]
    }
   ],
   "source": [
    "# Writing \"instance.parameters[\"I^E\"][j]\" might be a bit cumbersome so I abbreviate it a lot in my functions\n",
    "p = instance.parameters  # abbreviate it so you can read/write code better\n",
    "j = 0\n",
    "print(p[\"I^E\"][j])  # Set of all cadets that are eligible for AFSC j (j=0 in this case)"
   ]
  },
  {
   "cell_type": "markdown",
   "id": "e0bf8059",
   "metadata": {},
   "source": [
    "## \"value_parameters\" dictionary\n",
    "Where \"parameters\" was the stuff we can't change (for the most part), the CadetCareerProblem attribute \"value_parameters\" is all the stuff that we can change! These are all the objectives, weights, value functions, constraints, etc. that the analyst has the flexibility to adjust. Let's explore this dictionary.\n",
    "\n",
    "### Direct parameters from Excel\n",
    "Just like before, the first parameters in the dictionary that I want to discuss are the ones that are essentially direct imports from excel. These ones are pretty straightforward. From these value parameters, I have another function that creates sets of AFSCs and AFSC objectives. "
   ]
  },
  {
   "cell_type": "code",
   "execution_count": null,
   "id": "08866082",
   "metadata": {},
   "outputs": [],
   "source": []
  }
 ],
 "metadata": {
  "kernelspec": {
   "display_name": "afccp",
   "language": "python",
   "name": "afccp"
  },
  "language_info": {
   "codemirror_mode": {
    "name": "ipython",
    "version": 3
   },
   "file_extension": ".py",
   "mimetype": "text/x-python",
   "name": "python",
   "nbconvert_exporter": "python",
   "pygments_lexer": "ipython3",
   "version": "3.8.13"
  }
 },
 "nbformat": 4,
 "nbformat_minor": 5
}
